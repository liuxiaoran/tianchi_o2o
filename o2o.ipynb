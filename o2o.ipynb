{
 "cells": [
  {
   "cell_type": "code",
   "execution_count": 1,
   "metadata": {},
   "outputs": [],
   "source": [
    "import pandas as pd\n",
    "import numpy as np\n",
    "import datetime as date\n",
    "off_train= pd.read_csv(\"data/ccf_offline_stage1_train.csv\",header=0) # 跳过header\n",
    "online_train = pd.read_csv(\"data/ccf_online_stage1_train.csv\",header=0)\n",
    "off_predict =pd.read_csv(\"data/ccf_offline_stage1_test_revised.csv\",header=0)\n",
    "off_train.columns = [\"user_id\",\"merchant_id\",\"coupon_id\",\"discount_rate\",\"distance\",\"date_received\",\"date\"]\n",
    "online_train.columns = [\"user_id\",\"merchant_id\",\"action\",\"coupon_id\",\"discount_rate\",\"date_received\",\"date\"]\n",
    "off_predict.columns = [\"user_id\",\"merchant_id\",\"coupond_id\",\"discount_rate\",\"distance\",\"date_received\"]"
   ]
  },
  {
   "cell_type": "code",
   "execution_count": 2,
   "metadata": {},
   "outputs": [
    {
     "name": "stdout",
     "output_type": "stream",
     "text": [
      "(0, 7)\n",
      "(0, 7)\n",
      "off_train online_train 没有date_received 和 data 同时为NULL 的情况\n",
      "off_train数量：1754884\n",
      "off_train领取优惠券数量：1053282\n",
      "off_train优惠券种类： 9738\n",
      "(17888, 7)\n",
      "一个coupon_id 可能对应多个merchat_id\n",
      "off_train用户个数：539438\n",
      "date_received区间：20160101 到 20160615\n",
      "date 区间：20160101 到 20160630\n"
     ]
    }
   ],
   "source": [
    "print off_train[((off_train.date_received=='null') & (off_train.date=='null'))].shape\n",
    "print online_train[((online_train.date_received=='null') & (online_train.date=='null'))].shape\n",
    "print \"off_train online_train 没有date_received 和 data 同时为NULL 的情况\"\n",
    "\n",
    "print \"off_train记录数目：\"+str(off_train.shape[0])\n",
    "print \"off_train领取优惠券数量：\"+str(off_train[(off_train.date_received!='null')].shape[0])\n",
    "print \"off_train优惠券种类： \"+str(off_train[off_train.coupon_id!='null'].coupon_id.value_counts().shape[0])\n",
    "print off_train.drop_duplicates([\"merchant_id\",\"coupon_id\"]).shape\n",
    "\n",
    "# def f(s):\n",
    "#     return pd.Series({ 'n':s[\"merchant_id\"].drop_duplicates().shape[0]})\n",
    "# off_train.groupby([\"coupon_id\"]).apply(f)\n",
    "print \"一个coupon_id 可能对应多个merchat_id\"\n",
    "\n",
    "\n",
    "print \"off_train用户个数：\"+str(off_train.user_id.value_counts().shape[0])\n",
    "print \"date_received区间：\"+ str(off_train[off_train[\"date_received\"]!=\"null\"].date_received.min()) +\" 到 \"+str(off_train[off_train[\"date_received\"]!=\"null\"].date_received.max())\n",
    "print \"date 区间：\" +str(off_train[off_train[\"date\"]!=\"null\"].date.min())+\" 到 \"+ str(off_train[off_train[\"date\"]!=\"null\"].date.max())\n",
    "\n"
   ]
  },
  {
   "cell_type": "code",
   "execution_count": 14,
   "metadata": {},
   "outputs": [
    {
     "data": {
      "text/plain": [
       "701602"
      ]
     },
     "execution_count": 14,
     "metadata": {},
     "output_type": "execute_result"
    }
   ],
   "source": [
    "off_train.discount_rate.value_counts()[\"null\"]"
   ]
  },
  {
   "cell_type": "code",
   "execution_count": 6,
   "metadata": {},
   "outputs": [
    {
     "name": "stdout",
     "output_type": "stream",
     "text": [
      "off_predict 有76309用户\n",
      "off_predict 有43155用户 与 online_train用户有交集\n",
      "off_predict 有76307用户 与 off_train用户有交集\n",
      "off_predict有1559商家\n",
      "off_predict 有0商家 与 online_train 商家有交集\n",
      "off_predict 有1558商家 与 off_train 商家有交集\n"
     ]
    }
   ],
   "source": [
    "off_train_user_id = off_train.user_id.drop_duplicates()\n",
    "off_predict_user_id = off_predict.user_id.drop_duplicates()\n",
    "online_train_user_id = online_train.user_id.drop_duplicates()\n",
    "off_train_user_id.index = off_train_user_id.values\n",
    "off_predict_user_id.index = off_predict_user_id.values\n",
    "online_train_user_id.index = online_train_user_id.values\n",
    "\n",
    "print \"off_predict 有\"+str (off_predict_user_id.size)+\"用户\"\n",
    "print \"off_predict 有\"+str(off_predict_user_id.index.intersection(online_train_user_id.index).shape[0])+\"用户 与 online_train用户有交集\"\n",
    "print \"off_predict 有\"+str(off_predict_user_id.index.intersection(off_train_user_id.index).shape[0])+\"用户 与 off_train用户有交集\"\n",
    "print \n",
    "\n",
    "off_train_merchant_id  = off_train.merchant_id.drop_duplicates()\n",
    "off_predict_merchant_id = off_predict.merchant_id.drop_duplicates()\n",
    "online_train_merchant_id = online_train.merchant_id.drop_duplicates()\n",
    "off_train_merchant_id.index = off_train_merchant_id.values\n",
    "off_predict_merchant_id.index = off_predict_merchant_id.values\n",
    "online_train_merchant_id.index = online_train_merchant_id.values\n",
    "\n",
    "print  \"off_predict有\"+str(off_predict_merchant_id.size)+\"商家\"\n",
    "print  \"off_predict 有\"+str(off_predict_merchant_id.index.intersection(online_train_merchant_id.index).shape[0])+\"商家 与 online_train 商家有交集\"\n",
    "print  \"off_predict 有\"+str(off_predict_merchant_id.index.intersection(off_train_merchant_id.index).shape[0])+\"商家 与 off_train 商家有交集\"\n",
    "print\n",
    "\n",
    "print \"off_predict\""
   ]
  },
  {
   "cell_type": "code",
   "execution_count": 12,
   "metadata": {},
   "outputs": [],
   "source": [
    "#划分数据集为训练集和测试集\n",
    "# 特征窗: feature 和 标签窗: dateset\n",
    "feature1 = off_train[((off_train.date_received>=\"20160414\")&(off_train.date_received<=\"20160514\"))]\n",
    "dateset1 = off_train[(((off_train.date>=\"20160101\" ) & (off_train.date<=\"20160414\")) | ((off_train.date==\"null\") &(off_train.date_received>=\"20160101\")&(off_train.date_received<=\"20160414\")))]\n",
    "\n",
    "feature2 = off_train[(off_train.date_received>=\"20160514\") & (off_train.date_received<=\"20160615\")]\n",
    "dateset2 = off_train[((off_train.date>=\"20160201\")  & (off_train.date<=\"20160514\")) |( (off_train.date==\"null\")  & (off_train.date_received>=\"20160201\") &(off_train.date_received<=\"20160514\"))]\n",
    "\n",
    "feature3= off_train[(off_train.date_received>=\"20160701\") & (off_train.date_received<=\"20160731\")]\n",
    "dateset3 = off_train[((off_train.date>=\"20160315\")  & (off_train.date<=\"20160701\")) |( (off_train.date==\"null\")  & (off_train.date_received>=\"20160315\") &(off_train.date_received<=\"20160701\"))]\n"
   ]
  },
  {
   "cell_type": "markdown",
   "metadata": {
    "collapsed": true
   },
   "source": [
    "## coupon feature\n",
    "优惠比率:discount_rate ; 历史领取次数：receive_count; 销核次数：use_count; 销核比率：use_rate; 领取日期是周几：day_of_week; 领取日期是一个月第几天：day_of_month;"
   ]
  },
  {
   "cell_type": "code",
   "execution_count": 29,
   "metadata": {},
   "outputs": [
    {
     "name": "stdout",
     "output_type": "stream",
     "text": [
      "     coupon_id   count\n",
      "0         1000      38\n",
      "1        10000      17\n",
      "2        10001       3\n",
      "3        10006       5\n",
      "4        10009       2\n",
      "5         1001       2\n",
      "6        10016       3\n",
      "7        10019      12\n",
      "8         1002       4\n",
      "9        10024      22\n",
      "10       10027      52\n",
      "11       10029      16\n",
      "12       10039       6\n",
      "13       10040       7\n",
      "14       10042     171\n",
      "15       10046      22\n",
      "16       10050   16058\n",
      "17       10051      13\n",
      "18       10057       7\n",
      "19       10058       3\n",
      "20        1006      10\n",
      "21       10061      12\n",
      "22       10062       1\n",
      "23       10066       3\n",
      "24       10067      14\n",
      "25       10069      51\n",
      "26       10073       8\n",
      "27       10075       2\n",
      "28       10079      12\n",
      "29        1008     187\n",
      "...        ...     ...\n",
      "2851      9874      37\n",
      "2852      9880       2\n",
      "2853      9892       1\n",
      "2854      9897       3\n",
      "2855      9900      10\n",
      "2856      9903       8\n",
      "2857      9907       1\n",
      "2858      9910      24\n",
      "2859      9912      46\n",
      "2860      9926       4\n",
      "2861       993       1\n",
      "2862      9930      14\n",
      "2863      9931       2\n",
      "2864      9935       2\n",
      "2865      9938      23\n",
      "2866      9947      93\n",
      "2867      9948       4\n",
      "2868      9949       1\n",
      "2869      9957      28\n",
      "2870      9958       9\n",
      "2871      9968       5\n",
      "2872      9969       6\n",
      "2873      9973       4\n",
      "2874      9976       1\n",
      "2875      9979       1\n",
      "2876      9982       4\n",
      "2877      9984      36\n",
      "2878      9988      30\n",
      "2879      9993      14\n",
      "2880      null  343359\n",
      "\n",
      "[2881 rows x 2 columns]\n"
     ]
    },
    {
     "name": "stderr",
     "output_type": "stream",
     "text": [
      "/usr/local/lib/python2.7/dist-packages/ipykernel_launcher.py:15: SettingWithCopyWarning: \n",
      "A value is trying to be set on a copy of a slice from a DataFrame.\n",
      "Try using .loc[row_indexer,col_indexer] = value instead\n",
      "\n",
      "See the caveats in the documentation: http://pandas.pydata.org/pandas-docs/stable/indexing.html#indexing-view-versus-copy\n",
      "  from ipykernel import kernelapp as app\n",
      "/usr/local/lib/python2.7/dist-packages/ipykernel_launcher.py:18: SettingWithCopyWarning: \n",
      "A value is trying to be set on a copy of a slice from a DataFrame.\n",
      "Try using .loc[row_indexer,col_indexer] = value instead\n",
      "\n",
      "See the caveats in the documentation: http://pandas.pydata.org/pandas-docs/stable/indexing.html#indexing-view-versus-copy\n"
     ]
    }
   ],
   "source": [
    "# dataset1\n",
    "def cal_discount_rate(s):\n",
    "    s=str(s)\n",
    "    if s ==\"null\":\n",
    "        return np.NaN\n",
    "    else:\n",
    "        splited = s.split(\":\")\n",
    "        if len(splited)==1:\n",
    "            return float(splited[0])\n",
    "        else:\n",
    "            return 1- float(splited[1])/float(splited[0])\n",
    "        \n",
    "        \n",
    "        \n",
    "dateset1[\"discount_rate\"] = dateset1.discount_rate.apply(cal_discount_rate)\n",
    "\n",
    "d =dateset1[[\"coupon_id\"]]\n",
    "d[\"count\"]=1\n",
    "d2 = d.groupby([\"coupon_id\"]).agg(\"sum\").reset_index()\n",
    "\n",
    "\n"
   ]
  },
  {
   "cell_type": "code",
   "execution_count": null,
   "metadata": {
    "collapsed": true
   },
   "outputs": [],
   "source": []
  }
 ],
 "metadata": {
  "kernelspec": {
   "display_name": "Python 2",
   "language": "python",
   "name": "python2"
  },
  "language_info": {
   "codemirror_mode": {
    "name": "ipython",
    "version": 2
   },
   "file_extension": ".py",
   "mimetype": "text/x-python",
   "name": "python",
   "nbconvert_exporter": "python",
   "pygments_lexer": "ipython2",
   "version": "2.7.6"
  }
 },
 "nbformat": 4,
 "nbformat_minor": 2
}
