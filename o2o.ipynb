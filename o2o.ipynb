{
 "cells": [
  {
   "cell_type": "code",
   "execution_count": 50,
   "metadata": {
    "collapsed": false
   },
   "outputs": [
    {
     "name": "stdout",
     "output_type": "stream",
     "text": [
      "   user_id  merchant_id coupon_id discount_rate distance date_received  \\\n",
      "0  1439408         2632      null          null        0          null   \n",
      "1  1439408         4663     11002        150:20        1      20160528   \n",
      "2  1439408         2632      8591          20:1        0      20160217   \n",
      "3  1439408         2632      1078          20:1        0      20160319   \n",
      "4  1439408         2632      8591          20:1        0      20160613   \n",
      "\n",
      "       date  \n",
      "0  20160217  \n",
      "1      null  \n",
      "2      null  \n",
      "3      null  \n",
      "4      null  \n"
     ]
    }
   ],
   "source": [
    "import pandas as pd\n",
    "import numpy as np\n",
    "import datetime as date\n",
    "off_train= pd.read_csv(\"data/ccf_offline_stage1_train.csv\",header=0) # 跳过header\n",
    "online_train = pd.read_csv(\"data/ccf_online_stage1_train.csv\",header=0)\n",
    "off_predict =pd.read_csv(\"data/ccf_offline_stage1_test_revised.csv\",header=0)\n",
    "off_train.columns = [\"user_id\",\"merchant_id\",\"coupon_id\",\"discount_rate\",\"distance\",\"date_received\",\"date\"]\n",
    "online_train.columns = [\"user_id\",\"merchant_id\",\"action\",\"coupon_id\",\"discount_rate\",\"date_received\",\"date\"]\n",
    "off_predict.columns = [\"user_id\",\"merchant_id\",\"coupond_id\",\"discount_rate\",\"distance\",\"date_received\"]"
   ]
  },
  {
   "cell_type": "code",
   "execution_count": 55,
   "metadata": {
    "collapsed": false
   },
   "outputs": [
    {
     "name": "stdout",
     "output_type": "stream",
     "text": [
      "(0, 7)\n",
      "(0, 7)\n",
      "off_train online_train 没有date_received 和 data 同时为NULL 的情况\n",
      "off_train数量：1754884\n",
      "off_train领取优惠券数量：1053282\n",
      "off_train优惠券种类： 9738\n",
      "(17888, 7)\n",
      "一个coupon_id 可能对应多个merchat_id\n",
      "off_train用户个数：539438\n",
      "data_received区间：20160101 到 20160615\n",
      "data 区间：20160101 到 20160630\n"
     ]
    }
   ],
   "source": [
    "print off_train[((off_train.date_received=='null') & (off_train.date=='null'))].shape\n",
    "print online_train[((online_train.date_received=='null') & (online_train.date=='null'))].shape\n",
    "print \"off_train online_train 没有date_received 和 data 同时为NULL 的情况\"\n",
    "\n",
    "print \"off_train数量：\"+str(off_train.shape[0])\n",
    "print \"off_train领取优惠券数量：\"+str(off_train[(off_train.date_received!='null')].shape[0])\n",
    "print \"off_train优惠券种类： \"+str(off_train[off_train.coupon_id!='null'].coupon_id.value_counts().shape[0])\n",
    "print off_train.drop_duplicates([\"merchant_id\",\"coupon_id\"]).shape\n",
    "\n",
    "# def f(s):\n",
    "#     return pd.Series({ 'n':s[\"merchant_id\"].drop_duplicates().shape[0]})\n",
    "# off_train.groupby([\"coupon_id\"]).apply(f)\n",
    "print \"一个coupon_id 可能对应多个merchat_id\"\n",
    "\n",
    "\n",
    "print \"off_train用户个数：\"+str(off_train.user_id.value_counts().shape[0])\n",
    "print \"date_received区间：\"+ str(off_train[off_train[\"date_received\"]!=\"null\"].date_received.min()) +\" 到 \"+str(off_train[off_train[\"date_received\"]!=\"null\"].date_received.max())\n",
    "print \"date 区间：\" +str(off_train[off_train[\"date\"]!=\"null\"].date.min())+\" 到 \"+ str(off_train[off_train[\"date\"]!=\"null\"].date.max())\n",
    "\n"
   ]
  },
  {
   "cell_type": "code",
   "execution_count": 62,
   "metadata": {
    "collapsed": false
   },
   "outputs": [
    {
     "name": "stdout",
     "output_type": "stream",
     "text": [
      "(43155,)\n",
      "(76307,)\n"
     ]
    }
   ],
   "source": [
    "off_train_id = off_train.user_id.drop_duplicates()\n",
    "off_predict_id = off_predict.user_id.drop_duplicates()\n",
    "online_train_id = online_train.user_id.drop_duplicates()\n",
    "off_train_id.index = off_train_id.values\n",
    "off_predict_id.index = off_predict_id.values\n",
    "online_train_id.index = online_train_id.values\n",
    "\n",
    "print off_predict_id.index.intersection(online_train_id.index).shape\n",
    "print off_predict_id.index.intersection(off_train_id.index).shape"
   ]
  },
  {
   "cell_type": "code",
   "execution_count": null,
   "metadata": {
    "collapsed": true
   },
   "outputs": [],
   "source": []
  },
  {
   "cell_type": "code",
   "execution_count": null,
   "metadata": {
    "collapsed": true
   },
   "outputs": [],
   "source": []
  }
 ],
 "metadata": {
  "kernelspec": {
   "display_name": "Python 2",
   "language": "python",
   "name": "python2"
  },
  "language_info": {
   "codemirror_mode": {
    "name": "ipython",
    "version": 2
   },
   "file_extension": ".py",
   "mimetype": "text/x-python",
   "name": "python",
   "nbconvert_exporter": "python",
   "pygments_lexer": "ipython2",
   "version": "2.7.9"
  }
 },
 "nbformat": 4,
 "nbformat_minor": 2
}
