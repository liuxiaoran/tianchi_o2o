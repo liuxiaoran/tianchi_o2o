{
 "cells": [
  {
   "cell_type": "code",
   "execution_count": 1,
   "metadata": {
    "collapsed": true
   },
   "outputs": [],
   "source": [
    "import pandas as pd\n",
    "import numpy as np\n",
    "import datetime as date\n",
    "off_train= pd.read_csv(\"data/ccf_offline_stage1_train.csv\",header=0) # 跳过header\n",
    "online_train = pd.read_csv(\"data/ccf_online_stage1_train.csv\",header=0)\n",
    "off_predict =pd.read_csv(\"data/ccf_offline_stage1_test_revised.csv\",header=0)\n",
    "off_train.columns = [\"user_id\",\"merchant_id\",\"coupon_id\",\"discount_rate\",\"distance\",\"date_received\",\"date\"]\n",
    "online_train.columns = [\"user_id\",\"merchant_id\",\"action\",\"coupon_id\",\"discount_rate\",\"date_received\",\"date\"]\n",
    "off_predict.columns = [\"user_id\",\"merchant_id\",\"coupon_id\",\"discount_rate\",\"distance\",\"date_received\"]"
   ]
  },
  {
   "cell_type": "code",
   "execution_count": 2,
   "metadata": {},
   "outputs": [
    {
     "name": "stdout",
     "output_type": "stream",
     "text": [
      "(0, 7)\n",
      "(0, 7)\n",
      "off_train online_train 没有date_received 和 data 同时为NULL 的情况\n",
      "off_train记录数目：1754884\n",
      "off_train领取优惠券数量：1053282\n",
      "off_train优惠券种类： 9738\n",
      "(17888, 7)\n",
      "一个coupon_id 可能对应多个merchat_id\n",
      "off_train用户个数：539438\n",
      "date_received区间：20160101 到 20160615\n",
      "date 区间：20160101 到 20160630\n"
     ]
    }
   ],
   "source": [
    "print off_train[((off_train.date_received=='null') & (off_train.date=='null'))].shape\n",
    "print online_train[((online_train.date_received=='null') & (online_train.date=='null'))].shape\n",
    "print \"off_train online_train 没有date_received 和 data 同时为NULL 的情况\"\n",
    "\n",
    "print \"off_train记录数目：\"+str(off_train.shape[0])\n",
    "print \"off_train领取优惠券数量：\"+str(off_train[(off_train.date_received!='null')].shape[0])\n",
    "print \"off_train优惠券种类： \"+str(off_train[off_train.coupon_id!='null'].coupon_id.value_counts().shape[0])\n",
    "print off_train.drop_duplicates([\"merchant_id\",\"coupon_id\"]).shape\n",
    "\n",
    "# def f(s):\n",
    "#     return pd.Series({ 'n':s[\"merchant_id\"].drop_duplicates().shape[0]})\n",
    "# off_train.groupby([\"coupon_id\"]).apply(f)\n",
    "print \"一个coupon_id 可能对应多个merchat_id\"\n",
    "\n",
    "\n",
    "print \"off_train用户个数：\"+str(off_train.user_id.value_counts().shape[0])\n",
    "print \"date_received区间：\"+ str(off_train[off_train[\"date_received\"]!=\"null\"].date_received.min()) +\" 到 \"+str(off_train[off_train[\"date_received\"]!=\"null\"].date_received.max())\n",
    "print \"date 区间：\" +str(off_train[off_train[\"date\"]!=\"null\"].date.min())+\" 到 \"+ str(off_train[off_train[\"date\"]!=\"null\"].date.max())\n",
    "\n"
   ]
  },
  {
   "cell_type": "code",
   "execution_count": 3,
   "metadata": {},
   "outputs": [
    {
     "data": {
      "text/plain": [
       "701602"
      ]
     },
     "execution_count": 3,
     "metadata": {},
     "output_type": "execute_result"
    }
   ],
   "source": [
    "off_train.discount_rate.value_counts()[\"null\"]"
   ]
  },
  {
   "cell_type": "code",
   "execution_count": 4,
   "metadata": {},
   "outputs": [
    {
     "name": "stdout",
     "output_type": "stream",
     "text": [
      "off_predict 有76309用户\n",
      "off_predict 有43155用户 与 online_train用户有交集\n",
      "off_predict 有76307用户 与 off_train用户有交集\n",
      "\n",
      "off_predict有1559商家\n",
      "off_predict 有0商家 与 online_train 商家有交集\n",
      "off_predict 有1558商家 与 off_train 商家有交集\n",
      "\n",
      "off_predict有2050优惠券\n",
      "off_predict有1269优惠券　与 off_train 优惠券有交集\n"
     ]
    }
   ],
   "source": [
    "off_train_user_id = off_train.user_id.drop_duplicates()\n",
    "off_predict_user_id = off_predict.user_id.drop_duplicates()\n",
    "online_train_user_id = online_train.user_id.drop_duplicates()\n",
    "off_train_user_id.index = off_train_user_id.values\n",
    "off_predict_user_id.index = off_predict_user_id.values\n",
    "online_train_user_id.index = online_train_user_id.values\n",
    "\n",
    "print \"off_predict 有\"+str (off_predict_user_id.size)+\"用户\"\n",
    "print \"off_predict 有\"+str(off_predict_user_id.index.intersection(online_train_user_id.index).shape[0])+\"用户 与 online_train用户有交集\"\n",
    "print \"off_predict 有\"+str(off_predict_user_id.index.intersection(off_train_user_id.index).shape[0])+\"用户 与 off_train用户有交集\"\n",
    "print \n",
    "\n",
    "off_train_merchant_id  = off_train.merchant_id.drop_duplicates()\n",
    "off_predict_merchant_id = off_predict.merchant_id.drop_duplicates()\n",
    "online_train_merchant_id = online_train.merchant_id.drop_duplicates()\n",
    "off_train_merchant_id.index = off_train_merchant_id.values\n",
    "off_predict_merchant_id.index = off_predict_merchant_id.values\n",
    "online_train_merchant_id.index = online_train_merchant_id.values\n",
    "\n",
    "print  \"off_predict有\"+str(off_predict_merchant_id.size)+\"商家\"\n",
    "print  \"off_predict 有\"+str(off_predict_merchant_id.index.intersection(online_train_merchant_id.index).shape[0])+\"商家 与 online_train 商家有交集\"\n",
    "print  \"off_predict 有\"+str(off_predict_merchant_id.index.intersection(off_train_merchant_id.index).shape[0])+\"商家 与 off_train 商家有交集\"\n",
    "print\n",
    "\n",
    "off_predict_coupon_id = off_predict.coupon_id.drop_duplicates()\n",
    "off_train_coupon_id = off_train.coupon_id.drop_duplicates()\n",
    "off_predict_coupon_id.index = off_predict_coupon_id.values\n",
    "off_train_coupon_id.index = off_train_coupon_id.values\n",
    "\n",
    "print \"off_predict有\"+ str(off_predict_coupon_id.size)+\"优惠券\"\n",
    "print  \"off_predict有\"+str(off_predict_coupon_id.index.intersection(off_train_merchant_id.index).shape[0])+\"优惠券　与 off_train 优惠券有交集\""
   ]
  },
  {
   "cell_type": "code",
   "execution_count": 5,
   "metadata": {
    "collapsed": true
   },
   "outputs": [],
   "source": [
    "#划分数据集为训练集和测试集\n",
    "# 特征窗: feature 和 标签窗: dateset\n",
    "feature1 = off_train[((off_train.date_received>=\"20160414\")&(off_train.date_received<=\"20160514\"))]\n",
    "dataset1 = off_train[(((off_train.date>=\"20160101\" ) & (off_train.date<=\"20160414\")) | ((off_train.date==\"null\") &(off_train.date_received>=\"20160101\")&(off_train.date_received<=\"20160414\")))]\n",
    "\n",
    "feature2 = off_train[(off_train.date_received>=\"20160514\") & (off_train.date_received<=\"20160615\")]\n",
    "dataset2 = off_train[((off_train.date>=\"20160201\")  & (off_train.date<=\"20160514\")) |( (off_train.date==\"null\")  & (off_train.date_received>=\"20160201\") &(off_train.date_received<=\"20160514\"))]\n",
    "\n",
    "feature3= off_train[(off_train.date_received>=\"20160701\") & (off_train.date_received<=\"20160731\")]\n",
    "dataset3 = off_train[((off_train.date>=\"20160315\")  & (off_train.date<=\"20160701\")) |( (off_train.date==\"null\")  & (off_train.date_received>=\"20160315\") &(off_train.date_received<=\"20160701\"))]\n"
   ]
  },
  {
   "cell_type": "markdown",
   "metadata": {
    "collapsed": true
   },
   "source": [
    "## coupon feature\n",
    "优惠比率:discount_rate ; 历史领取次数：receive_count; 销核次数：use_count; 销核比率：use_rate; 领取日期是周几：day_of_week; 领取日期是一个月第几天：day_of_month;"
   ]
  },
  {
   "cell_type": "code",
   "execution_count": null,
   "metadata": {},
   "outputs": [
    {
     "name": "stderr",
     "output_type": "stream",
     "text": [
      "/usr/local/lib/python2.7/dist-packages/ipykernel_launcher.py:13: SettingWithCopyWarning: \n",
      "A value is trying to be set on a copy of a slice from a DataFrame.\n",
      "Try using .loc[row_indexer,col_indexer] = value instead\n",
      "\n",
      "See the caveats in the documentation: http://pandas.pydata.org/pandas-docs/stable/indexing.html#indexing-view-versus-copy\n",
      "  del sys.path[0]\n",
      "/usr/local/lib/python2.7/dist-packages/ipykernel_launcher.py:17: SettingWithCopyWarning: \n",
      "A value is trying to be set on a copy of a slice from a DataFrame.\n",
      "Try using .loc[row_indexer,col_indexer] = value instead\n",
      "\n",
      "See the caveats in the documentation: http://pandas.pydata.org/pandas-docs/stable/indexing.html#indexing-view-versus-copy\n",
      "/usr/local/lib/python2.7/dist-packages/ipykernel_launcher.py:24: SettingWithCopyWarning: \n",
      "A value is trying to be set on a copy of a slice from a DataFrame.\n",
      "Try using .loc[row_indexer,col_indexer] = value instead\n",
      "\n",
      "See the caveats in the documentation: http://pandas.pydata.org/pandas-docs/stable/indexing.html#indexing-view-versus-copy\n"
     ]
    }
   ],
   "source": [
    "# dataset1\n",
    "# 优惠比率特征\n",
    "def cal_discount_rate(s):\n",
    "    s=str(s)\n",
    "    if s ==\"null\":\n",
    "        return np.NaN\n",
    "    else:\n",
    "        splited = s.split(\":\")\n",
    "        if len(splited)==1:\n",
    "            return float(splited[0])\n",
    "        else:\n",
    "            return 1- float(splited[1])/float(splited[0])\n",
    "dataset1[\"discount_rate\"] = dataset1.discount_rate.apply(cal_discount_rate)\n",
    "\n",
    "# 历史领取次数\n",
    "d =dataset1[[\"coupon_id\"]]\n",
    "d[\"receive_count\"]=1\n",
    "d2 = d.groupby([\"coupon_id\"]).agg(\"sum\").reset_index()\n",
    "dataset1 = pd.merge(dataset1,d2,on=\"coupon_id\",how=\"left\")\n",
    "\n",
    "# 销核次数\n",
    "d=dataset1[[\"coupon_id\",\"date\",\"date_received\"]]\n",
    "d2 =d[(d.date!=\"null\"  )& (d.date_received!=\"null\")]\n",
    "d2[\"use_count\"]=1\n",
    "d3= d2.groupby([\"coupon_id\"]).agg(\"sum\").reset_index()\n",
    "dataset1 = pd.merge(dataset1,d2,on=\"coupon_id\",how=\"left\")\n",
    "\n",
    "dataset1.use_rate = dataset1.use_count/dataset1.receive_count\n",
    "\n",
    "print dataset1.head(20)\n"
   ]
  },
  {
   "cell_type": "code",
   "execution_count": null,
   "metadata": {
    "collapsed": true
   },
   "outputs": [],
   "source": []
  }
 ],
 "metadata": {
  "kernelspec": {
   "display_name": "Python 2",
   "language": "python",
   "name": "python2"
  },
  "language_info": {
   "codemirror_mode": {
    "name": "ipython",
    "version": 2
   },
   "file_extension": ".py",
   "mimetype": "text/x-python",
   "name": "python",
   "nbconvert_exporter": "python",
   "pygments_lexer": "ipython2",
   "version": "2.7.6"
  }
 },
 "nbformat": 4,
 "nbformat_minor": 2
}
